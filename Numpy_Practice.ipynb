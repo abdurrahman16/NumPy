{
  "nbformat": 4,
  "nbformat_minor": 0,
  "metadata": {
    "colab": {
      "provenance": [],
      "authorship_tag": "ABX9TyNmzrzn/b7p93H+J3hx9Dz8",
      "include_colab_link": true
    },
    "kernelspec": {
      "name": "python3",
      "display_name": "Python 3"
    },
    "language_info": {
      "name": "python"
    }
  },
  "cells": [
    {
      "cell_type": "markdown",
      "metadata": {
        "id": "view-in-github",
        "colab_type": "text"
      },
      "source": [
        "<a href=\"https://colab.research.google.com/github/abdurrahman16/NumPy/blob/main/Numpy_Practice.ipynb\" target=\"_parent\"><img src=\"https://colab.research.google.com/assets/colab-badge.svg\" alt=\"Open In Colab\"/></a>"
      ]
    },
    {
      "cell_type": "code",
      "execution_count": 189,
      "metadata": {
        "id": "QkpTSEauVC_4"
      },
      "outputs": [],
      "source": [
        "import numpy as np"
      ]
    },
    {
      "cell_type": "code",
      "source": [
        "mylist=[9,5,3,4]\n",
        "nparray= np.array(mylist)\n",
        "print(nparray)"
      ],
      "metadata": {
        "colab": {
          "base_uri": "https://localhost:8080/"
        },
        "id": "P1TEKl_hfOFA",
        "outputId": "f33532e3-f9e0-4698-ad83-0f8d501ae108"
      },
      "execution_count": 190,
      "outputs": [
        {
          "output_type": "stream",
          "name": "stdout",
          "text": [
            "[9 5 3 4]\n"
          ]
        }
      ]
    },
    {
      "cell_type": "code",
      "source": [
        "type(nparray)"
      ],
      "metadata": {
        "colab": {
          "base_uri": "https://localhost:8080/"
        },
        "id": "Uqj1tFTTflby",
        "outputId": "1ecc4a67-4ba0-4038-94f9-ad586569388d"
      },
      "execution_count": 191,
      "outputs": [
        {
          "output_type": "execute_result",
          "data": {
            "text/plain": [
              "numpy.ndarray"
            ]
          },
          "metadata": {},
          "execution_count": 191
        }
      ]
    },
    {
      "cell_type": "code",
      "source": [
        "np.zeros((2,3))"
      ],
      "metadata": {
        "colab": {
          "base_uri": "https://localhost:8080/"
        },
        "id": "Tk7XNW4kfswi",
        "outputId": "d8cc2a9d-86ff-4436-a6ac-3b116da177d3"
      },
      "execution_count": 192,
      "outputs": [
        {
          "output_type": "execute_result",
          "data": {
            "text/plain": [
              "array([[0., 0., 0.],\n",
              "       [0., 0., 0.]])"
            ]
          },
          "metadata": {},
          "execution_count": 192
        }
      ]
    },
    {
      "cell_type": "code",
      "source": [
        "np.ones((5,6))"
      ],
      "metadata": {
        "colab": {
          "base_uri": "https://localhost:8080/"
        },
        "id": "_-eHRRxugk4Y",
        "outputId": "0d9f40bc-1192-46bc-ba9d-3c9fad6983a5"
      },
      "execution_count": 193,
      "outputs": [
        {
          "output_type": "execute_result",
          "data": {
            "text/plain": [
              "array([[1., 1., 1., 1., 1., 1.],\n",
              "       [1., 1., 1., 1., 1., 1.],\n",
              "       [1., 1., 1., 1., 1., 1.],\n",
              "       [1., 1., 1., 1., 1., 1.],\n",
              "       [1., 1., 1., 1., 1., 1.]])"
            ]
          },
          "metadata": {},
          "execution_count": 193
        }
      ]
    },
    {
      "cell_type": "code",
      "source": [
        "np.eye(5)*5"
      ],
      "metadata": {
        "colab": {
          "base_uri": "https://localhost:8080/"
        },
        "id": "C5qgMs1PhD-x",
        "outputId": "33ae2340-4294-4dc2-b2d3-9ae4991c6199"
      },
      "execution_count": 194,
      "outputs": [
        {
          "output_type": "execute_result",
          "data": {
            "text/plain": [
              "array([[5., 0., 0., 0., 0.],\n",
              "       [0., 5., 0., 0., 0.],\n",
              "       [0., 0., 5., 0., 0.],\n",
              "       [0., 0., 0., 5., 0.],\n",
              "       [0., 0., 0., 0., 5.]])"
            ]
          },
          "metadata": {},
          "execution_count": 194
        }
      ]
    },
    {
      "cell_type": "code",
      "source": [
        "np.arange(2,11)"
      ],
      "metadata": {
        "colab": {
          "base_uri": "https://localhost:8080/"
        },
        "id": "weEj8xykhKM_",
        "outputId": "fb168466-79b6-4137-9ff0-98c70249f753"
      },
      "execution_count": 195,
      "outputs": [
        {
          "output_type": "execute_result",
          "data": {
            "text/plain": [
              "array([ 2,  3,  4,  5,  6,  7,  8,  9, 10])"
            ]
          },
          "metadata": {},
          "execution_count": 195
        }
      ]
    },
    {
      "cell_type": "code",
      "source": [
        "x= np.arange(2,11,2)"
      ],
      "metadata": {
        "id": "mOkTfQwehI_X"
      },
      "execution_count": 196,
      "outputs": []
    },
    {
      "cell_type": "code",
      "source": [
        "print(x)"
      ],
      "metadata": {
        "colab": {
          "base_uri": "https://localhost:8080/"
        },
        "id": "Ie6FoeZoiLcp",
        "outputId": "65dd9384-d8ce-41a6-aa25-251a0612fd86"
      },
      "execution_count": 197,
      "outputs": [
        {
          "output_type": "stream",
          "name": "stdout",
          "text": [
            "[ 2  4  6  8 10]\n"
          ]
        }
      ]
    },
    {
      "cell_type": "code",
      "source": [
        "type(x)"
      ],
      "metadata": {
        "colab": {
          "base_uri": "https://localhost:8080/"
        },
        "id": "iw37nuvliVYi",
        "outputId": "dbb96a7f-6236-4201-aff6-69a3b496f899"
      },
      "execution_count": 198,
      "outputs": [
        {
          "output_type": "execute_result",
          "data": {
            "text/plain": [
              "numpy.ndarray"
            ]
          },
          "metadata": {},
          "execution_count": 198
        }
      ]
    },
    {
      "cell_type": "code",
      "source": [
        "d=np.linspace(2,10,50)\n",
        "print(d)"
      ],
      "metadata": {
        "colab": {
          "base_uri": "https://localhost:8080/"
        },
        "id": "7IzuhXHKiX9S",
        "outputId": "3d6084bf-c3c3-48b8-992a-4b73a634022f"
      },
      "execution_count": 199,
      "outputs": [
        {
          "output_type": "stream",
          "name": "stdout",
          "text": [
            "[ 2.          2.16326531  2.32653061  2.48979592  2.65306122  2.81632653\n",
            "  2.97959184  3.14285714  3.30612245  3.46938776  3.63265306  3.79591837\n",
            "  3.95918367  4.12244898  4.28571429  4.44897959  4.6122449   4.7755102\n",
            "  4.93877551  5.10204082  5.26530612  5.42857143  5.59183673  5.75510204\n",
            "  5.91836735  6.08163265  6.24489796  6.40816327  6.57142857  6.73469388\n",
            "  6.89795918  7.06122449  7.2244898   7.3877551   7.55102041  7.71428571\n",
            "  7.87755102  8.04081633  8.20408163  8.36734694  8.53061224  8.69387755\n",
            "  8.85714286  9.02040816  9.18367347  9.34693878  9.51020408  9.67346939\n",
            "  9.83673469 10.        ]\n"
          ]
        }
      ]
    },
    {
      "cell_type": "code",
      "source": [
        "print(d[5])"
      ],
      "metadata": {
        "colab": {
          "base_uri": "https://localhost:8080/"
        },
        "id": "0hvW7rVsikKB",
        "outputId": "8e62da04-5550-4970-b89d-9bfef5328252"
      },
      "execution_count": 200,
      "outputs": [
        {
          "output_type": "stream",
          "name": "stdout",
          "text": [
            "2.816326530612245\n"
          ]
        }
      ]
    },
    {
      "cell_type": "code",
      "source": [
        "np.random.rand(5,6)"
      ],
      "metadata": {
        "colab": {
          "base_uri": "https://localhost:8080/"
        },
        "id": "tSNw-9VWi5Zl",
        "outputId": "f437a27e-de2d-4c07-8f33-daf794cad96e"
      },
      "execution_count": 201,
      "outputs": [
        {
          "output_type": "execute_result",
          "data": {
            "text/plain": [
              "array([[0.18182497, 0.18340451, 0.30424224, 0.52475643, 0.43194502,\n",
              "        0.29122914],\n",
              "       [0.61185289, 0.13949386, 0.29214465, 0.36636184, 0.45606998,\n",
              "        0.78517596],\n",
              "       [0.19967378, 0.51423444, 0.59241457, 0.04645041, 0.60754485,\n",
              "        0.17052412],\n",
              "       [0.06505159, 0.94888554, 0.96563203, 0.80839735, 0.30461377,\n",
              "        0.09767211],\n",
              "       [0.68423303, 0.44015249, 0.12203823, 0.49517691, 0.03438852,\n",
              "        0.9093204 ]])"
            ]
          },
          "metadata": {},
          "execution_count": 201
        }
      ]
    },
    {
      "cell_type": "code",
      "source": [
        "np.random.randn(5,6)"
      ],
      "metadata": {
        "colab": {
          "base_uri": "https://localhost:8080/"
        },
        "id": "fSl5tVy1jIBs",
        "outputId": "ce24773c-1522-45cb-c64e-c30ed5dfb480"
      },
      "execution_count": 202,
      "outputs": [
        {
          "output_type": "execute_result",
          "data": {
            "text/plain": [
              "array([[ 0.82254491, -1.22084365,  0.2088636 , -1.95967012, -1.32818605,\n",
              "         0.19686124],\n",
              "       [ 0.73846658,  0.17136828, -0.11564828, -0.3011037 , -1.47852199,\n",
              "        -0.71984421],\n",
              "       [-0.46063877,  1.05712223,  0.34361829, -1.76304016,  0.32408397,\n",
              "        -0.38508228],\n",
              "       [-0.676922  ,  0.61167629,  1.03099952,  0.93128012, -0.83921752,\n",
              "        -0.30921238],\n",
              "       [ 0.33126343,  0.97554513, -0.47917424, -0.18565898, -1.10633497,\n",
              "        -1.19620662]])"
            ]
          },
          "metadata": {},
          "execution_count": 202
        }
      ]
    },
    {
      "cell_type": "code",
      "source": [
        "np.random.randint(1,10,50)"
      ],
      "metadata": {
        "colab": {
          "base_uri": "https://localhost:8080/"
        },
        "id": "vRqFfogujLnY",
        "outputId": "2d2a3666-52f7-4576-ed4c-9d1b327ff641"
      },
      "execution_count": 203,
      "outputs": [
        {
          "output_type": "execute_result",
          "data": {
            "text/plain": [
              "array([3, 8, 6, 3, 1, 3, 5, 3, 1, 5, 7, 7, 9, 3, 7, 1, 4, 4, 5, 7, 7, 4,\n",
              "       7, 3, 6, 2, 9, 5, 6, 4, 7, 9, 7, 1, 1, 9, 9, 4, 9, 3, 7, 6, 8, 9,\n",
              "       5, 1, 3, 8, 6, 8])"
            ]
          },
          "metadata": {},
          "execution_count": 203
        }
      ]
    },
    {
      "cell_type": "code",
      "source": [
        "np.random.seed(42)\n",
        "np.random.randint(1,101,(2,5))"
      ],
      "metadata": {
        "colab": {
          "base_uri": "https://localhost:8080/"
        },
        "id": "IJrNzOHdjYSx",
        "outputId": "fa94dc15-deea-4e0d-f151-4323d3117c64"
      },
      "execution_count": 204,
      "outputs": [
        {
          "output_type": "execute_result",
          "data": {
            "text/plain": [
              "array([[52, 93, 15, 72, 61],\n",
              "       [21, 83, 87, 75, 75]])"
            ]
          },
          "metadata": {},
          "execution_count": 204
        }
      ]
    },
    {
      "cell_type": "code",
      "source": [
        "testarr=np.arange(1,21)\n",
        "print(testarr)"
      ],
      "metadata": {
        "colab": {
          "base_uri": "https://localhost:8080/"
        },
        "id": "G-4pJKIPlvuS",
        "outputId": "52824933-d7da-4d61-d3ca-f57b0715b6e1"
      },
      "execution_count": 205,
      "outputs": [
        {
          "output_type": "stream",
          "name": "stdout",
          "text": [
            "[ 1  2  3  4  5  6  7  8  9 10 11 12 13 14 15 16 17 18 19 20]\n"
          ]
        }
      ]
    },
    {
      "cell_type": "code",
      "source": [
        "testarr.shape"
      ],
      "metadata": {
        "colab": {
          "base_uri": "https://localhost:8080/"
        },
        "id": "UECMTslTl9pN",
        "outputId": "56356e92-9cbd-4f92-9fba-502724688b24"
      },
      "execution_count": 206,
      "outputs": [
        {
          "output_type": "execute_result",
          "data": {
            "text/plain": [
              "(20,)"
            ]
          },
          "metadata": {},
          "execution_count": 206
        }
      ]
    },
    {
      "cell_type": "code",
      "source": [
        "testarr.reshape(4,5)"
      ],
      "metadata": {
        "colab": {
          "base_uri": "https://localhost:8080/"
        },
        "id": "8gORMt_jmDkw",
        "outputId": "473ec52f-719f-4373-dbf2-0b5152eb4687"
      },
      "execution_count": 207,
      "outputs": [
        {
          "output_type": "execute_result",
          "data": {
            "text/plain": [
              "array([[ 1,  2,  3,  4,  5],\n",
              "       [ 6,  7,  8,  9, 10],\n",
              "       [11, 12, 13, 14, 15],\n",
              "       [16, 17, 18, 19, 20]])"
            ]
          },
          "metadata": {},
          "execution_count": 207
        }
      ]
    },
    {
      "cell_type": "code",
      "source": [
        "newarr= np.random.randint(1,100,10)\n",
        "print(newarr)"
      ],
      "metadata": {
        "colab": {
          "base_uri": "https://localhost:8080/"
        },
        "id": "2TuwTue9mSqF",
        "outputId": "1c26d729-0519-4218-9e46-0d157b884f52"
      },
      "execution_count": 212,
      "outputs": [
        {
          "output_type": "stream",
          "name": "stdout",
          "text": [
            "[64 60 21 33 76 58 22 89 49 91]\n"
          ]
        }
      ]
    },
    {
      "cell_type": "code",
      "source": [
        "newarr.max()"
      ],
      "metadata": {
        "colab": {
          "base_uri": "https://localhost:8080/"
        },
        "id": "FPJY7c0wmmGQ",
        "outputId": "e6965ae0-c59d-48c0-9af5-8c843f8b6934"
      },
      "execution_count": 213,
      "outputs": [
        {
          "output_type": "execute_result",
          "data": {
            "text/plain": [
              "np.int64(91)"
            ]
          },
          "metadata": {},
          "execution_count": 213
        }
      ]
    },
    {
      "cell_type": "code",
      "source": [
        "newarr.min()"
      ],
      "metadata": {
        "colab": {
          "base_uri": "https://localhost:8080/"
        },
        "id": "24HFljN8mu7a",
        "outputId": "02d94260-1709-4585-e288-923258fd53cd"
      },
      "execution_count": 214,
      "outputs": [
        {
          "output_type": "execute_result",
          "data": {
            "text/plain": [
              "np.int64(21)"
            ]
          },
          "metadata": {},
          "execution_count": 214
        }
      ]
    },
    {
      "cell_type": "code",
      "source": [
        "newarr.argmax()"
      ],
      "metadata": {
        "colab": {
          "base_uri": "https://localhost:8080/"
        },
        "id": "e4mkr-o8m0fK",
        "outputId": "1f4edc17-2906-47de-f87a-dd9469815c5b"
      },
      "execution_count": 215,
      "outputs": [
        {
          "output_type": "execute_result",
          "data": {
            "text/plain": [
              "np.int64(9)"
            ]
          },
          "metadata": {},
          "execution_count": 215
        }
      ]
    },
    {
      "cell_type": "code",
      "source": [],
      "metadata": {
        "id": "CJDRYf94m5xP"
      },
      "execution_count": 211,
      "outputs": []
    }
  ]
}