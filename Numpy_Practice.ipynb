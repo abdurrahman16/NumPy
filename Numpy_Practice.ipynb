{
  "nbformat": 4,
  "nbformat_minor": 0,
  "metadata": {
    "colab": {
      "provenance": [],
      "authorship_tag": "ABX9TyM/InlibD0dfvCqKxsGlfYm",
      "include_colab_link": true
    },
    "kernelspec": {
      "name": "python3",
      "display_name": "Python 3"
    },
    "language_info": {
      "name": "python"
    }
  },
  "cells": [
    {
      "cell_type": "markdown",
      "metadata": {
        "id": "view-in-github",
        "colab_type": "text"
      },
      "source": [
        "<a href=\"https://colab.research.google.com/github/abdurrahman16/NumPy/blob/main/Numpy_Practice.ipynb\" target=\"_parent\"><img src=\"https://colab.research.google.com/assets/colab-badge.svg\" alt=\"Open In Colab\"/></a>"
      ]
    },
    {
      "cell_type": "code",
      "execution_count": 18,
      "metadata": {
        "id": "QkpTSEauVC_4"
      },
      "outputs": [],
      "source": [
        "import numpy as np"
      ]
    },
    {
      "cell_type": "code",
      "source": [
        "mylist=[9,5,3,4]\n",
        "nparray= np.array(mylist)\n",
        "print(nparray)"
      ],
      "metadata": {
        "colab": {
          "base_uri": "https://localhost:8080/"
        },
        "id": "P1TEKl_hfOFA",
        "outputId": "86c9b179-0511-4f9a-90b2-2c64e3107edc"
      },
      "execution_count": 22,
      "outputs": [
        {
          "output_type": "stream",
          "name": "stdout",
          "text": [
            "[9 5 3 4]\n"
          ]
        }
      ]
    },
    {
      "cell_type": "code",
      "source": [
        "type(nparray)"
      ],
      "metadata": {
        "colab": {
          "base_uri": "https://localhost:8080/"
        },
        "id": "Uqj1tFTTflby",
        "outputId": "f65594ef-af68-4fb0-802c-3153ecf87ded"
      },
      "execution_count": 21,
      "outputs": [
        {
          "output_type": "execute_result",
          "data": {
            "text/plain": [
              "numpy.ndarray"
            ]
          },
          "metadata": {},
          "execution_count": 21
        }
      ]
    },
    {
      "cell_type": "code",
      "source": [
        "np.zeros((2,3))"
      ],
      "metadata": {
        "colab": {
          "base_uri": "https://localhost:8080/"
        },
        "id": "Tk7XNW4kfswi",
        "outputId": "fa139fb8-ada7-46f5-8d71-1f961e344ee4"
      },
      "execution_count": 26,
      "outputs": [
        {
          "output_type": "execute_result",
          "data": {
            "text/plain": [
              "array([[0., 0., 0.],\n",
              "       [0., 0., 0.]])"
            ]
          },
          "metadata": {},
          "execution_count": 26
        }
      ]
    },
    {
      "cell_type": "code",
      "source": [
        "np.ones((5,6))"
      ],
      "metadata": {
        "colab": {
          "base_uri": "https://localhost:8080/"
        },
        "id": "_-eHRRxugk4Y",
        "outputId": "715a5df4-0e71-4a7c-cd18-eed946cbcb5f"
      },
      "execution_count": 27,
      "outputs": [
        {
          "output_type": "execute_result",
          "data": {
            "text/plain": [
              "array([[1., 1., 1., 1., 1., 1.],\n",
              "       [1., 1., 1., 1., 1., 1.],\n",
              "       [1., 1., 1., 1., 1., 1.],\n",
              "       [1., 1., 1., 1., 1., 1.],\n",
              "       [1., 1., 1., 1., 1., 1.]])"
            ]
          },
          "metadata": {},
          "execution_count": 27
        }
      ]
    },
    {
      "cell_type": "code",
      "source": [
        "np.eye(5)*5"
      ],
      "metadata": {
        "colab": {
          "base_uri": "https://localhost:8080/"
        },
        "id": "C5qgMs1PhD-x",
        "outputId": "4aee8c9b-1f1a-4916-c321-cf77197e9171"
      },
      "execution_count": 32,
      "outputs": [
        {
          "output_type": "execute_result",
          "data": {
            "text/plain": [
              "array([[5., 0., 0., 0., 0.],\n",
              "       [0., 5., 0., 0., 0.],\n",
              "       [0., 0., 5., 0., 0.],\n",
              "       [0., 0., 0., 5., 0.],\n",
              "       [0., 0., 0., 0., 5.]])"
            ]
          },
          "metadata": {},
          "execution_count": 32
        }
      ]
    },
    {
      "cell_type": "code",
      "source": [
        "np.arange(2,11)"
      ],
      "metadata": {
        "colab": {
          "base_uri": "https://localhost:8080/"
        },
        "id": "weEj8xykhKM_",
        "outputId": "9a600c41-16b5-498b-b101-d2728e143670"
      },
      "execution_count": 34,
      "outputs": [
        {
          "output_type": "execute_result",
          "data": {
            "text/plain": [
              "array([ 2,  3,  4,  5,  6,  7,  8,  9, 10])"
            ]
          },
          "metadata": {},
          "execution_count": 34
        }
      ]
    },
    {
      "cell_type": "code",
      "source": [
        "x= np.arange(2,11,2)"
      ],
      "metadata": {
        "id": "mOkTfQwehI_X"
      },
      "execution_count": 37,
      "outputs": []
    },
    {
      "cell_type": "code",
      "source": [
        "print(x)"
      ],
      "metadata": {
        "colab": {
          "base_uri": "https://localhost:8080/"
        },
        "id": "Ie6FoeZoiLcp",
        "outputId": "d1d343bc-9d92-425c-996c-ff1b49262c71"
      },
      "execution_count": 38,
      "outputs": [
        {
          "output_type": "stream",
          "name": "stdout",
          "text": [
            "[ 2  4  6  8 10]\n"
          ]
        }
      ]
    },
    {
      "cell_type": "code",
      "source": [
        "type(x)"
      ],
      "metadata": {
        "colab": {
          "base_uri": "https://localhost:8080/"
        },
        "id": "iw37nuvliVYi",
        "outputId": "cab1041c-bb03-4d39-d062-a8ab60418106"
      },
      "execution_count": 39,
      "outputs": [
        {
          "output_type": "execute_result",
          "data": {
            "text/plain": [
              "numpy.ndarray"
            ]
          },
          "metadata": {},
          "execution_count": 39
        }
      ]
    },
    {
      "cell_type": "code",
      "source": [
        "d=np.linspace(2,10,50)\n",
        "print(d)"
      ],
      "metadata": {
        "colab": {
          "base_uri": "https://localhost:8080/"
        },
        "id": "7IzuhXHKiX9S",
        "outputId": "68a82024-daff-4b69-afe8-96020c44c199"
      },
      "execution_count": 54,
      "outputs": [
        {
          "output_type": "stream",
          "name": "stdout",
          "text": [
            "[ 2.          2.16326531  2.32653061  2.48979592  2.65306122  2.81632653\n",
            "  2.97959184  3.14285714  3.30612245  3.46938776  3.63265306  3.79591837\n",
            "  3.95918367  4.12244898  4.28571429  4.44897959  4.6122449   4.7755102\n",
            "  4.93877551  5.10204082  5.26530612  5.42857143  5.59183673  5.75510204\n",
            "  5.91836735  6.08163265  6.24489796  6.40816327  6.57142857  6.73469388\n",
            "  6.89795918  7.06122449  7.2244898   7.3877551   7.55102041  7.71428571\n",
            "  7.87755102  8.04081633  8.20408163  8.36734694  8.53061224  8.69387755\n",
            "  8.85714286  9.02040816  9.18367347  9.34693878  9.51020408  9.67346939\n",
            "  9.83673469 10.        ]\n"
          ]
        }
      ]
    },
    {
      "cell_type": "code",
      "source": [
        "print(d[5])"
      ],
      "metadata": {
        "colab": {
          "base_uri": "https://localhost:8080/"
        },
        "id": "0hvW7rVsikKB",
        "outputId": "58536c9a-c789-42f4-dbaf-5dbfcee6f6e6"
      },
      "execution_count": 46,
      "outputs": [
        {
          "output_type": "stream",
          "name": "stdout",
          "text": [
            "2.816326530612245\n"
          ]
        }
      ]
    },
    {
      "cell_type": "code",
      "source": [
        "np.random.rand(5,6)"
      ],
      "metadata": {
        "colab": {
          "base_uri": "https://localhost:8080/"
        },
        "id": "tSNw-9VWi5Zl",
        "outputId": "e8261b48-0e6f-43ce-b23b-764be158bb5c"
      },
      "execution_count": 48,
      "outputs": [
        {
          "output_type": "execute_result",
          "data": {
            "text/plain": [
              "array([[0.77783232, 0.86069919, 0.62464127, 0.98245833, 0.47458974,\n",
              "        0.05001669],\n",
              "       [0.67974621, 0.00330621, 0.48622548, 0.50443703, 0.47377195,\n",
              "        0.81692307],\n",
              "       [0.19342203, 0.94026722, 0.80884243, 0.37533062, 0.31756806,\n",
              "        0.06799747],\n",
              "       [0.63109455, 0.59145357, 0.07112304, 0.01198066, 0.16656417,\n",
              "        0.19817493],\n",
              "       [0.84261817, 0.23903555, 0.58179991, 0.87865202, 0.81709788,\n",
              "        0.5695393 ]])"
            ]
          },
          "metadata": {},
          "execution_count": 48
        }
      ]
    },
    {
      "cell_type": "code",
      "source": [
        "np.random.randn(5,6)"
      ],
      "metadata": {
        "colab": {
          "base_uri": "https://localhost:8080/"
        },
        "id": "fSl5tVy1jIBs",
        "outputId": "cdead22f-1e7b-417c-e9a2-afb82aa8a95a"
      },
      "execution_count": 49,
      "outputs": [
        {
          "output_type": "execute_result",
          "data": {
            "text/plain": [
              "array([[ 0.86227274,  1.22280783,  0.48977493, -0.82358197, -2.20674254,\n",
              "        -0.0160749 ],\n",
              "       [ 0.40253328,  0.44434868,  0.62920973,  0.40576968, -1.17368521,\n",
              "         0.44146583],\n",
              "       [ 0.09252054, -0.60001185, -2.41693143, -0.14039759,  1.25160202,\n",
              "         0.71732566],\n",
              "       [ 0.32390962,  0.44938544, -0.33526033,  1.13065215,  0.74363774,\n",
              "         0.21150762],\n",
              "       [-1.20585272,  0.89504778, -1.07977707, -0.87478414, -0.28218101,\n",
              "         0.68491341]])"
            ]
          },
          "metadata": {},
          "execution_count": 49
        }
      ]
    },
    {
      "cell_type": "code",
      "source": [
        "np.random.randint(1,10,50)"
      ],
      "metadata": {
        "colab": {
          "base_uri": "https://localhost:8080/"
        },
        "id": "vRqFfogujLnY",
        "outputId": "23c44800-d4dc-41bc-df65-e1a0119fdd6a"
      },
      "execution_count": 52,
      "outputs": [
        {
          "output_type": "execute_result",
          "data": {
            "text/plain": [
              "array([7, 1, 1, 5, 8, 3, 5, 6, 3, 5, 7, 1, 8, 8, 6, 5, 8, 5, 4, 9, 5, 7,\n",
              "       8, 4, 7, 3, 3, 8, 1, 8, 5, 4, 2, 1, 4, 5, 4, 5, 6, 7, 1, 6, 2, 5,\n",
              "       4, 2, 2, 2, 5, 5])"
            ]
          },
          "metadata": {},
          "execution_count": 52
        }
      ]
    },
    {
      "cell_type": "code",
      "source": [
        "np.random.seed(42)\n",
        "np.random.randint(1,101,(2,5))"
      ],
      "metadata": {
        "colab": {
          "base_uri": "https://localhost:8080/"
        },
        "id": "IJrNzOHdjYSx",
        "outputId": "163a98fb-78a1-401a-9e20-9c7155af6f4b"
      },
      "execution_count": 55,
      "outputs": [
        {
          "output_type": "execute_result",
          "data": {
            "text/plain": [
              "array([[52, 93, 15, 72, 61],\n",
              "       [21, 83, 87, 75, 75]])"
            ]
          },
          "metadata": {},
          "execution_count": 55
        }
      ]
    }
  ]
}